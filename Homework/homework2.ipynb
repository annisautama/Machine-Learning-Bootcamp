{
 "cells": [
  {
   "cell_type": "code",
   "execution_count": 1,
   "id": "400e697e-60a3-4e1d-bc61-f6e0219cc497",
   "metadata": {},
   "outputs": [],
   "source": [
    "import pandas as pd\n",
    "import numpy as np"
   ]
  },
  {
   "cell_type": "code",
   "execution_count": 2,
   "id": "0558ea3a-2801-4120-a624-e220635b765b",
   "metadata": {},
   "outputs": [
    {
     "name": "stdout",
     "output_type": "stream",
     "text": [
      "(9704, 11)\n"
     ]
    }
   ],
   "source": [
    "df = pd.read_csv('car_fuel_efficiency.csv')\n",
    "print(df.shape)"
   ]
  },
  {
   "cell_type": "code",
   "execution_count": 3,
   "id": "51b36def-e267-44b2-9c5a-ebe399047c9b",
   "metadata": {},
   "outputs": [],
   "source": [
    "colscheck = ['engine_displacement',\n",
    "'horsepower',\n",
    "'vehicle_weight',\n",
    "'model_year',\n",
    "'fuel_efficiency_mpg']"
   ]
  },
  {
   "cell_type": "code",
   "execution_count": 4,
   "id": "178f04a4-d5f6-4a14-b2f4-c01905f946ac",
   "metadata": {},
   "outputs": [
    {
     "data": {
      "text/plain": [
       "engine_displacement      0\n",
       "horsepower             708\n",
       "vehicle_weight           0\n",
       "model_year               0\n",
       "fuel_efficiency_mpg      0\n",
       "dtype: int64"
      ]
     },
     "execution_count": 4,
     "metadata": {},
     "output_type": "execute_result"
    }
   ],
   "source": [
    "df[colscheck].isnull().sum()"
   ]
  },
  {
   "cell_type": "code",
   "execution_count": 5,
   "id": "dab0a700-6c64-490c-98b8-3dcdd4feb492",
   "metadata": {},
   "outputs": [
    {
     "data": {
      "text/plain": [
       "149.0"
      ]
     },
     "execution_count": 5,
     "metadata": {},
     "output_type": "execute_result"
    }
   ],
   "source": [
    "df['horsepower'].median()"
   ]
  },
  {
   "cell_type": "code",
   "execution_count": 6,
   "id": "14fd14e4-692a-4910-8bfc-4c4b29f7249a",
   "metadata": {},
   "outputs": [
    {
     "data": {
      "text/html": [
       "<div>\n",
       "<style scoped>\n",
       "    .dataframe tbody tr th:only-of-type {\n",
       "        vertical-align: middle;\n",
       "    }\n",
       "\n",
       "    .dataframe tbody tr th {\n",
       "        vertical-align: top;\n",
       "    }\n",
       "\n",
       "    .dataframe thead th {\n",
       "        text-align: right;\n",
       "    }\n",
       "</style>\n",
       "<table border=\"1\" class=\"dataframe\">\n",
       "  <thead>\n",
       "    <tr style=\"text-align: right;\">\n",
       "      <th></th>\n",
       "      <th>engine_displacement</th>\n",
       "      <th>num_cylinders</th>\n",
       "      <th>horsepower</th>\n",
       "      <th>vehicle_weight</th>\n",
       "      <th>acceleration</th>\n",
       "      <th>model_year</th>\n",
       "      <th>origin</th>\n",
       "      <th>fuel_type</th>\n",
       "      <th>drivetrain</th>\n",
       "      <th>num_doors</th>\n",
       "      <th>fuel_efficiency_mpg</th>\n",
       "    </tr>\n",
       "  </thead>\n",
       "  <tbody>\n",
       "    <tr>\n",
       "      <th>0</th>\n",
       "      <td>170</td>\n",
       "      <td>3.0</td>\n",
       "      <td>159.0</td>\n",
       "      <td>3413.433759</td>\n",
       "      <td>17.7</td>\n",
       "      <td>2003</td>\n",
       "      <td>Europe</td>\n",
       "      <td>Gasoline</td>\n",
       "      <td>All-wheel drive</td>\n",
       "      <td>0.0</td>\n",
       "      <td>13.231729</td>\n",
       "    </tr>\n",
       "  </tbody>\n",
       "</table>\n",
       "</div>"
      ],
      "text/plain": [
       "   engine_displacement  num_cylinders  horsepower  vehicle_weight  \\\n",
       "0                  170            3.0       159.0     3413.433759   \n",
       "\n",
       "   acceleration  model_year  origin fuel_type       drivetrain  num_doors  \\\n",
       "0          17.7        2003  Europe  Gasoline  All-wheel drive        0.0   \n",
       "\n",
       "   fuel_efficiency_mpg  \n",
       "0            13.231729  "
      ]
     },
     "execution_count": 6,
     "metadata": {},
     "output_type": "execute_result"
    }
   ],
   "source": [
    "df.head(1)"
   ]
  },
  {
   "cell_type": "code",
   "execution_count": 8,
   "id": "81298170-efdd-4632-b354-d5f21099475c",
   "metadata": {},
   "outputs": [],
   "source": [
    "from sklearn.model_selection import train_test_split\n",
    "from sklearn.linear_model import LinearRegression\n",
    "from sklearn.metrics import mean_squared_error\n",
    "\n",
    "np.random.seed(42)\n",
    "df = df.sample(frac=1, random_state=42)\n",
    "\n",
    "n = len(df)\n",
    "n_train = int(0.6 * n)\n",
    "n_val = int(0.2 * n)\n",
    "n_test = n - n_train - n_val\n",
    "\n",
    "df_train = df.iloc[:n_train].copy()\n",
    "df_val = df.iloc[n_train:n_train+n_val].copy()\n",
    "df_test = df.iloc[n_train+n_val:].copy()\n",
    "\n",
    "feature = colscheck\n",
    "target = \"fuel_efficiency_mpg\""
   ]
  },
  {
   "cell_type": "code",
   "execution_count": 11,
   "id": "54b1abe1-9781-4482-b8d4-bffe47169b78",
   "metadata": {},
   "outputs": [
    {
     "data": {
      "text/plain": [
       "engine_displacement    0\n",
       "horsepower             0\n",
       "vehicle_weight         0\n",
       "model_year             0\n",
       "fuel_efficiency_mpg    0\n",
       "dtype: int64"
      ]
     },
     "execution_count": 11,
     "metadata": {},
     "output_type": "execute_result"
    }
   ],
   "source": [
    "df_val_mean.isnull().sum()"
   ]
  },
  {
   "cell_type": "code",
   "execution_count": 15,
   "id": "db9ff840-e5ab-4165-a78d-57253fdd3e64",
   "metadata": {},
   "outputs": [],
   "source": [
    "df_train_0 = df_train[feature+[target]].copy()\n",
    "df_val_0 = df_val[feature+[target]].copy()\n",
    "df_train_0['horsepower'] = df_train_0['horsepower'].fillna(0)\n",
    "df_val_0['horsepower'] = df_val_0['horsepower'].fillna(0)\n",
    "\n",
    "mean_value = df_train['horsepower'].mean()\n",
    "df_train_mean = df_train[feature+[target]].copy()\n",
    "df_val_mean = df_val[feature+[target]].copy()\n",
    "df_train_mean['horsepower'] = df_train_mean['horsepower'].fillna(mean_value)\n",
    "df_val_mean['horsepower'] = df_val_mean['horsepower'].fillna(mean_value)\n",
    "\n",
    "def train_and_eval(df_tr, df_vl):\n",
    "    model = LinearRegression()\n",
    "    X_train = df_tr[feature].values\n",
    "    y_train = df_tr[target].values\n",
    "    X_val = df_vl[feature].values\n",
    "    y_val = df_vl[target].values\n",
    "\n",
    "    model.fit(X_train, y_train)\n",
    "    y_pred = model.predict(X_val)\n",
    "    rmse = mean_squared_error(y_val, y_pred, squared=False)\n",
    "    return round(rmse, 2)"
   ]
  },
  {
   "cell_type": "code",
   "execution_count": 16,
   "id": "79eafd82-a9f3-4fff-a30e-076436c05896",
   "metadata": {},
   "outputs": [
    {
     "name": "stdout",
     "output_type": "stream",
     "text": [
      "RMSE (fill with 0): 0.0\n",
      "RMSE (fill with mean): 0.0\n",
      "👉 Both are equally good\n"
     ]
    },
    {
     "name": "stderr",
     "output_type": "stream",
     "text": [
      "/opt/anaconda3/lib/python3.11/site-packages/sklearn/metrics/_regression.py:483: FutureWarning: 'squared' is deprecated in version 1.4 and will be removed in 1.6. To calculate the root mean squared error, use the function'root_mean_squared_error'.\n",
      "  warnings.warn(\n",
      "/opt/anaconda3/lib/python3.11/site-packages/sklearn/metrics/_regression.py:483: FutureWarning: 'squared' is deprecated in version 1.4 and will be removed in 1.6. To calculate the root mean squared error, use the function'root_mean_squared_error'.\n",
      "  warnings.warn(\n"
     ]
    }
   ],
   "source": [
    "rmse_0 = train_and_eval(df_train_0, df_val_0)\n",
    "rmse_mean = train_and_eval(df_train_mean, df_val_mean)\n",
    "\n",
    "print(f\"RMSE (fill with 0): {rmse_0}\")\n",
    "print(f\"RMSE (fill with mean): {rmse_mean}\")\n",
    "\n",
    "if rmse_0 < rmse_mean:\n",
    "    print(\"👉 Better option: fill with 0\")\n",
    "elif rmse_mean < rmse_0:\n",
    "    print(\"👉 Better option: fill with mean\")\n",
    "else:\n",
    "    print(\"👉 Both are equally good\")\n"
   ]
  },
  {
   "cell_type": "code",
   "execution_count": 18,
   "id": "daeba2c8-2747-4995-93a3-26e471f4ec8d",
   "metadata": {},
   "outputs": [
    {
     "name": "stdout",
     "output_type": "stream",
     "text": [
      "r=0: RMSE=0.0\n",
      "r=0.01: RMSE=0.0\n",
      "r=0.1: RMSE=0.0\n",
      "r=1: RMSE=0.0\n",
      "r=5: RMSE=0.0\n",
      "r=10: RMSE=0.0\n",
      "r=100: RMSE=0.02\n",
      "Best RMSE: 0.0 with r=0\n"
     ]
    },
    {
     "name": "stderr",
     "output_type": "stream",
     "text": [
      "/opt/anaconda3/lib/python3.11/site-packages/sklearn/metrics/_regression.py:483: FutureWarning: 'squared' is deprecated in version 1.4 and will be removed in 1.6. To calculate the root mean squared error, use the function'root_mean_squared_error'.\n",
      "  warnings.warn(\n",
      "/opt/anaconda3/lib/python3.11/site-packages/sklearn/metrics/_regression.py:483: FutureWarning: 'squared' is deprecated in version 1.4 and will be removed in 1.6. To calculate the root mean squared error, use the function'root_mean_squared_error'.\n",
      "  warnings.warn(\n",
      "/opt/anaconda3/lib/python3.11/site-packages/sklearn/metrics/_regression.py:483: FutureWarning: 'squared' is deprecated in version 1.4 and will be removed in 1.6. To calculate the root mean squared error, use the function'root_mean_squared_error'.\n",
      "  warnings.warn(\n",
      "/opt/anaconda3/lib/python3.11/site-packages/sklearn/metrics/_regression.py:483: FutureWarning: 'squared' is deprecated in version 1.4 and will be removed in 1.6. To calculate the root mean squared error, use the function'root_mean_squared_error'.\n",
      "  warnings.warn(\n",
      "/opt/anaconda3/lib/python3.11/site-packages/sklearn/metrics/_regression.py:483: FutureWarning: 'squared' is deprecated in version 1.4 and will be removed in 1.6. To calculate the root mean squared error, use the function'root_mean_squared_error'.\n",
      "  warnings.warn(\n",
      "/opt/anaconda3/lib/python3.11/site-packages/sklearn/metrics/_regression.py:483: FutureWarning: 'squared' is deprecated in version 1.4 and will be removed in 1.6. To calculate the root mean squared error, use the function'root_mean_squared_error'.\n",
      "  warnings.warn(\n",
      "/opt/anaconda3/lib/python3.11/site-packages/sklearn/metrics/_regression.py:483: FutureWarning: 'squared' is deprecated in version 1.4 and will be removed in 1.6. To calculate the root mean squared error, use the function'root_mean_squared_error'.\n",
      "  warnings.warn(\n"
     ]
    }
   ],
   "source": [
    "from sklearn.linear_model import Ridge\n",
    "\n",
    "df_train = df_train_0.copy()\n",
    "df_val = df_val_0.copy()\n",
    "\n",
    "X_train = df_train[feature].values\n",
    "y_train = df_train[target].values\n",
    "X_val = df_val[feature].values\n",
    "y_val = df_val[target].values\n",
    "\n",
    "r_list = [0, 0.01, 0.1, 1, 5, 10, 100]\n",
    "rmse_scores = {}\n",
    "\n",
    "for r in r_list:\n",
    "    model = Ridge(alpha=r)\n",
    "    model.fit(X_train, y_train)\n",
    "    y_pred = model.predict(X_val)\n",
    "    rmse = mean_squared_error(y_val, y_pred, squared=False)\n",
    "    rmse_scores[r] = round(rmse, 2)\n",
    "\n",
    "for r, rmse in rmse_scores.items():\n",
    "    print(f\"r={r}: RMSE={rmse}\")\n",
    "\n",
    "best_r = min(rmse_scores, key=lambda x: (rmse_scores[x], x))\n",
    "print(f\"Best RMSE: {rmse_scores[best_r]} with r={best_r}\")"
   ]
  },
  {
   "cell_type": "code",
   "execution_count": 20,
   "id": "94c75507-07dc-47f8-a486-4907166f44c7",
   "metadata": {},
   "outputs": [
    {
     "name": "stdout",
     "output_type": "stream",
     "text": [
      "RMSE per seed: [0.0, 0.0, 0.0, 0.0, 0.0, 0.0, 0.0, 0.0, 0.0, 0.0]\n",
      "Standard Deviation: 0.0\n"
     ]
    },
    {
     "name": "stderr",
     "output_type": "stream",
     "text": [
      "/opt/anaconda3/lib/python3.11/site-packages/sklearn/metrics/_regression.py:483: FutureWarning: 'squared' is deprecated in version 1.4 and will be removed in 1.6. To calculate the root mean squared error, use the function'root_mean_squared_error'.\n",
      "  warnings.warn(\n",
      "/opt/anaconda3/lib/python3.11/site-packages/sklearn/metrics/_regression.py:483: FutureWarning: 'squared' is deprecated in version 1.4 and will be removed in 1.6. To calculate the root mean squared error, use the function'root_mean_squared_error'.\n",
      "  warnings.warn(\n",
      "/opt/anaconda3/lib/python3.11/site-packages/sklearn/metrics/_regression.py:483: FutureWarning: 'squared' is deprecated in version 1.4 and will be removed in 1.6. To calculate the root mean squared error, use the function'root_mean_squared_error'.\n",
      "  warnings.warn(\n",
      "/opt/anaconda3/lib/python3.11/site-packages/sklearn/metrics/_regression.py:483: FutureWarning: 'squared' is deprecated in version 1.4 and will be removed in 1.6. To calculate the root mean squared error, use the function'root_mean_squared_error'.\n",
      "  warnings.warn(\n",
      "/opt/anaconda3/lib/python3.11/site-packages/sklearn/metrics/_regression.py:483: FutureWarning: 'squared' is deprecated in version 1.4 and will be removed in 1.6. To calculate the root mean squared error, use the function'root_mean_squared_error'.\n",
      "  warnings.warn(\n",
      "/opt/anaconda3/lib/python3.11/site-packages/sklearn/metrics/_regression.py:483: FutureWarning: 'squared' is deprecated in version 1.4 and will be removed in 1.6. To calculate the root mean squared error, use the function'root_mean_squared_error'.\n",
      "  warnings.warn(\n",
      "/opt/anaconda3/lib/python3.11/site-packages/sklearn/metrics/_regression.py:483: FutureWarning: 'squared' is deprecated in version 1.4 and will be removed in 1.6. To calculate the root mean squared error, use the function'root_mean_squared_error'.\n",
      "  warnings.warn(\n",
      "/opt/anaconda3/lib/python3.11/site-packages/sklearn/metrics/_regression.py:483: FutureWarning: 'squared' is deprecated in version 1.4 and will be removed in 1.6. To calculate the root mean squared error, use the function'root_mean_squared_error'.\n",
      "  warnings.warn(\n",
      "/opt/anaconda3/lib/python3.11/site-packages/sklearn/metrics/_regression.py:483: FutureWarning: 'squared' is deprecated in version 1.4 and will be removed in 1.6. To calculate the root mean squared error, use the function'root_mean_squared_error'.\n",
      "  warnings.warn(\n",
      "/opt/anaconda3/lib/python3.11/site-packages/sklearn/metrics/_regression.py:483: FutureWarning: 'squared' is deprecated in version 1.4 and will be removed in 1.6. To calculate the root mean squared error, use the function'root_mean_squared_error'.\n",
      "  warnings.warn(\n"
     ]
    }
   ],
   "source": [
    "rmse_scores = []\n",
    "\n",
    "for seed in range(10):\n",
    "    df_shuffled = df.sample(frac=1, random_state=seed)\n",
    "    n = len(df_shuffled)\n",
    "    n_train = int(0.6 * n)\n",
    "    n_val = int(0.2 * n)\n",
    "\n",
    "    df_train = df_shuffled.iloc[:n_train].copy()\n",
    "    df_val = df_shuffled.iloc[n_train:n_train+n_val].copy()\n",
    "\n",
    "    df_train[feature] = df_train[feature].fillna(0)\n",
    "    df_val[feature] = df_val[feature].fillna(0)\n",
    "\n",
    "    model = LinearRegression()\n",
    "    model.fit(df_train[feature], df_train[target])\n",
    "\n",
    "    y_pred = model.predict(df_val[feature])\n",
    "    rmse = mean_squared_error(df_val[target], y_pred, squared=False)\n",
    "    rmse_scores.append(rmse)\n",
    "\n",
    "std_rmse = np.std(rmse_scores)\n",
    "print(\"RMSE per seed:\", [round(x, 3) for x in rmse_scores])\n",
    "print(\"Standard Deviation:\", round(std_rmse, 3))"
   ]
  },
  {
   "cell_type": "code",
   "execution_count": 21,
   "id": "f6ca558d-ef77-46a5-b2a9-f8554aa183de",
   "metadata": {},
   "outputs": [
    {
     "name": "stdout",
     "output_type": "stream",
     "text": [
      "RMSE on test: 0.0\n"
     ]
    },
    {
     "name": "stderr",
     "output_type": "stream",
     "text": [
      "/opt/anaconda3/lib/python3.11/site-packages/sklearn/metrics/_regression.py:483: FutureWarning: 'squared' is deprecated in version 1.4 and will be removed in 1.6. To calculate the root mean squared error, use the function'root_mean_squared_error'.\n",
      "  warnings.warn(\n"
     ]
    }
   ],
   "source": [
    "np.random.seed(9)\n",
    "df = df.sample(frac=1, random_state=9)\n",
    "\n",
    "n = len(df)\n",
    "n_train = int(0.6 * n)\n",
    "n_val = int(0.2 * n)\n",
    "n_test = n - n_train - n_val\n",
    "\n",
    "df_train = df.iloc[:n_train].copy()\n",
    "df_val = df.iloc[n_train:n_train+n_val].copy()\n",
    "df_test = df.iloc[n_train+n_val:].copy()\n",
    "\n",
    "df_full_train = pd.concat([df_train, df_val]).reset_index(drop=True)\n",
    "\n",
    "df_full_train[feature] = df_full_train[feature].fillna(0)\n",
    "df_test[feature] = df_test[feature].fillna(0)\n",
    "\n",
    "model = Ridge(alpha=0.001)\n",
    "model.fit(df_full_train[feature], df_full_train[target])\n",
    "\n",
    "y_pred = model.predict(df_test[feature])\n",
    "rmse = mean_squared_error(df_test[target], y_pred, squared=False)\n",
    "\n",
    "print(\"RMSE on test:\", round(rmse, 3))"
   ]
  },
  {
   "cell_type": "code",
   "execution_count": null,
   "id": "81339d22-fbcd-4a2b-9ca5-51dcd1d7dcae",
   "metadata": {},
   "outputs": [],
   "source": []
  },
  {
   "cell_type": "code",
   "execution_count": null,
   "id": "b23d941a-9ddc-42ae-bb20-97edc39c36f8",
   "metadata": {},
   "outputs": [],
   "source": []
  },
  {
   "cell_type": "code",
   "execution_count": null,
   "id": "b2d3efaa-8e2f-47be-98f5-bf13b472087f",
   "metadata": {},
   "outputs": [],
   "source": []
  },
  {
   "cell_type": "code",
   "execution_count": null,
   "id": "a0386412-3d8f-468e-8716-f74f407a9a84",
   "metadata": {},
   "outputs": [],
   "source": []
  },
  {
   "cell_type": "code",
   "execution_count": null,
   "id": "7e6a9b73-a2b6-4fcf-b19a-a352c411140b",
   "metadata": {},
   "outputs": [],
   "source": []
  },
  {
   "cell_type": "code",
   "execution_count": null,
   "id": "30a8ecfb-3cd2-4925-a578-b1a08c8a60fa",
   "metadata": {},
   "outputs": [],
   "source": []
  },
  {
   "cell_type": "code",
   "execution_count": null,
   "id": "805ceb48-d73b-4c2e-8498-bcfdabd05e79",
   "metadata": {},
   "outputs": [],
   "source": []
  },
  {
   "cell_type": "code",
   "execution_count": null,
   "id": "c3764cb5-d60f-4908-8ded-297caf4de519",
   "metadata": {},
   "outputs": [],
   "source": []
  }
 ],
 "metadata": {
  "kernelspec": {
   "display_name": "Python 3 (ipykernel)",
   "language": "python",
   "name": "python3"
  },
  "language_info": {
   "codemirror_mode": {
    "name": "ipython",
    "version": 3
   },
   "file_extension": ".py",
   "mimetype": "text/x-python",
   "name": "python",
   "nbconvert_exporter": "python",
   "pygments_lexer": "ipython3",
   "version": "3.11.7"
  }
 },
 "nbformat": 4,
 "nbformat_minor": 5
}
