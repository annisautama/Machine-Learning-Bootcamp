{
 "cells": [
  {
   "cell_type": "code",
   "execution_count": 1,
   "id": "1bac46f3-76a3-4713-bb81-890d164064e4",
   "metadata": {},
   "outputs": [],
   "source": [
    "import pandas as pd\n",
    "import numpy as np\n",
    "from sklearn.model_selection import train_test_split\n",
    "from sklearn.preprocessing import OneHotEncoder, LabelEncoder\n",
    "from sklearn.feature_selection import mutual_info_classif\n",
    "from sklearn.linear_model import LogisticRegression\n",
    "from sklearn.metrics import accuracy_score"
   ]
  },
  {
   "cell_type": "code",
   "execution_count": 14,
   "id": "b85a04cd-5ff1-4655-b746-2d388d70121e",
   "metadata": {},
   "outputs": [
    {
     "name": "stdout",
     "output_type": "stream",
     "text": [
      "Data shape: (1462, 9)\n"
     ]
    },
    {
     "data": {
      "text/html": [
       "<div>\n",
       "<style scoped>\n",
       "    .dataframe tbody tr th:only-of-type {\n",
       "        vertical-align: middle;\n",
       "    }\n",
       "\n",
       "    .dataframe tbody tr th {\n",
       "        vertical-align: top;\n",
       "    }\n",
       "\n",
       "    .dataframe thead th {\n",
       "        text-align: right;\n",
       "    }\n",
       "</style>\n",
       "<table border=\"1\" class=\"dataframe\">\n",
       "  <thead>\n",
       "    <tr style=\"text-align: right;\">\n",
       "      <th></th>\n",
       "      <th>lead_source</th>\n",
       "      <th>industry</th>\n",
       "      <th>number_of_courses_viewed</th>\n",
       "      <th>annual_income</th>\n",
       "      <th>employment_status</th>\n",
       "      <th>location</th>\n",
       "      <th>interaction_count</th>\n",
       "      <th>lead_score</th>\n",
       "      <th>converted</th>\n",
       "    </tr>\n",
       "  </thead>\n",
       "  <tbody>\n",
       "    <tr>\n",
       "      <th>0</th>\n",
       "      <td>paid_ads</td>\n",
       "      <td>NaN</td>\n",
       "      <td>1</td>\n",
       "      <td>79450.0</td>\n",
       "      <td>unemployed</td>\n",
       "      <td>south_america</td>\n",
       "      <td>4</td>\n",
       "      <td>0.94</td>\n",
       "      <td>1</td>\n",
       "    </tr>\n",
       "  </tbody>\n",
       "</table>\n",
       "</div>"
      ],
      "text/plain": [
       "  lead_source industry  number_of_courses_viewed  annual_income  \\\n",
       "0    paid_ads      NaN                         1        79450.0   \n",
       "\n",
       "  employment_status       location  interaction_count  lead_score  converted  \n",
       "0        unemployed  south_america                  4        0.94          1  "
      ]
     },
     "execution_count": 14,
     "metadata": {},
     "output_type": "execute_result"
    }
   ],
   "source": [
    "INPUT_CSV = \"course_lead_scoring.csv\" \n",
    "TARGET_COL = \"converted\" \n",
    "RANDOM_SEED = 42\n",
    "\n",
    "df = pd.read_csv(INPUT_CSV)\n",
    "print(\"Data shape:\", df.shape)\n",
    "df.head(1)"
   ]
  },
  {
   "cell_type": "code",
   "execution_count": 13,
   "id": "3e4db5cd-6ff8-4614-914b-39b258fe757b",
   "metadata": {},
   "outputs": [
    {
     "data": {
      "text/plain": [
       "array([1, 0])"
      ]
     },
     "execution_count": 13,
     "metadata": {},
     "output_type": "execute_result"
    }
   ],
   "source": [
    "df['converted'].unique()"
   ]
  },
  {
   "cell_type": "code",
   "execution_count": 15,
   "id": "253b76b5-4e67-426d-9432-2ce8de89cffb",
   "metadata": {},
   "outputs": [
    {
     "name": "stdout",
     "output_type": "stream",
     "text": [
      "Categorical columns: ['lead_source', 'industry', 'employment_status', 'location']\n",
      "Numerical columns: ['number_of_courses_viewed', 'annual_income', 'interaction_count', 'lead_score']\n",
      "Q1: mode of industry -> retail\n",
      "Choose among: NA, technology, healthcare, retail\n"
     ]
    }
   ],
   "source": [
    "if TARGET_COL not in df.columns:\n",
    "    raise ValueError(f\"Target column '{TARGET_COL}' not found in dataset. Ganti TARGET_COL jika perlu.\")\n",
    "\n",
    "y = df[TARGET_COL].copy()\n",
    "X = df.drop(columns=[TARGET_COL]).copy()\n",
    "\n",
    "cat_cols = X.select_dtypes(include=['object','category']).columns.tolist()\n",
    "num_cols = X.select_dtypes(include=[np.number]).columns.tolist()\n",
    "\n",
    "print(\"Categorical columns:\", cat_cols)\n",
    "print(\"Numerical columns:\", num_cols)\n",
    "\n",
    "X[cat_cols] = X[cat_cols].fillna('NA')\n",
    "X[num_cols] = X[num_cols].fillna(0.0)\n",
    "\n",
    "if 'industry' not in X.columns:\n",
    "    print(\"Warning: 'industry' column not in data.\")\n",
    "else:\n",
    "    mode_industry = X['industry'].mode()\n",
    "    mode_val = mode_industry.iloc[0] if not mode_industry.empty else None\n",
    "    print(\"Q1: mode of industry ->\", mode_val)\n",
    "    print(\"Choose among: NA, technology, healthcare, retail\")"
   ]
  },
  {
   "cell_type": "code",
   "execution_count": 16,
   "id": "3e607d1f-ca88-4e37-b209-f512676b25f6",
   "metadata": {},
   "outputs": [
    {
     "name": "stdout",
     "output_type": "stream",
     "text": [
      "\n",
      "Q2: correlations for requested pairs (only these considered):\n",
      "interaction_count_and_lead_score: 0.009888182496913105\n",
      "number_of_courses_viewed_and_lead_score: -0.004878998354681265\n",
      "number_of_courses_viewed_and_interaction_count: -0.023565222882888055\n",
      "annual_income_and_interaction_count: 0.027036472404814396\n",
      "Q2: Best correlated pair -> annual_income and interaction_count\n"
     ]
    }
   ],
   "source": [
    "corr = X[num_cols].corr()\n",
    "pairs = {\n",
    "    \"interaction_count_and_lead_score\": (\"interaction_count\",\"lead_score\"),\n",
    "    \"number_of_courses_viewed_and_lead_score\": (\"number_of_courses_viewed\",\"lead_score\"),\n",
    "    \"number_of_courses_viewed_and_interaction_count\": (\"number_of_courses_viewed\",\"interaction_count\"),\n",
    "    \"annual_income_and_interaction_count\": (\"annual_income\",\"interaction_count\")\n",
    "}\n",
    "pair_corr = {}\n",
    "for k,(a,b) in pairs.items():\n",
    "    if a in corr.index and b in corr.columns:\n",
    "        pair_corr[k] = corr.loc[a,b]\n",
    "    else:\n",
    "        pair_corr[k] = np.nan\n",
    "\n",
    "print(\"\\nQ2: correlations for requested pairs (only these considered):\")\n",
    "for k,v in pair_corr.items():\n",
    "    print(f\"{k}: {v}\")\n",
    "valid = {k:abs(v) for k,v in pair_corr.items() if not pd.isna(v)}\n",
    "if valid:\n",
    "    best = max(valid.items(), key=lambda x: x[1])[0]\n",
    "    mapping = {\n",
    "        \"interaction_count_and_lead_score\":\"interaction_count and lead_score\",\n",
    "        \"number_of_courses_viewed_and_lead_score\":\"number_of_courses_viewed and lead_score\",\n",
    "        \"number_of_courses_viewed_and_interaction_count\":\"number_of_courses_viewed and interaction_count\",\n",
    "        \"annual_income_and_interaction_count\":\"annual_income and interaction_count\"\n",
    "    }\n",
    "    print(\"Q2: Best correlated pair ->\", mapping[best])\n",
    "else:\n",
    "    print(\"Q2: none of the pairs are present in the numeric columns.\")"
   ]
  },
  {
   "cell_type": "code",
   "execution_count": 17,
   "id": "6529cdb7-ca11-4338-8345-0ea577ba4c5f",
   "metadata": {},
   "outputs": [
    {
     "name": "stdout",
     "output_type": "stream",
     "text": [
      "\n",
      "Split sizes: train, val, test -> 876 293 293\n",
      "\n",
      "Q3: mutual information scores (train set, rounded 2 decimals):\n",
      "lead_source : 0.03\n",
      "industry : 0.01\n",
      "employment_status : 0.01\n",
      "location : 0.0\n",
      "\n",
      "Q3: selected option scores (unrounded):\n",
      "industry -> 0.005958887591320947\n",
      "location -> 0.0014310098448050215\n",
      "lead_source -> 0.027718699139711492\n",
      "employment_status -> 0.007695750218801714\n",
      "Q3: variable with biggest mutual info -> lead_source\n"
     ]
    }
   ],
   "source": [
    "X_temp, X_test, y_temp, y_test = train_test_split(\n",
    "    X, y, test_size=0.2, random_state=RANDOM_SEED, stratify=y if y.nunique()>1 else None)\n",
    "\n",
    "X_train, X_val, y_train, y_val = train_test_split(\n",
    "    X_temp, y_temp, test_size=0.25, random_state=RANDOM_SEED, stratify=y_temp if y_temp.nunique()>1 else None)\n",
    "\n",
    "print(\"\\nSplit sizes: train, val, test ->\", X_train.shape[0], X_val.shape[0], X_test.shape[0])\n",
    "\n",
    "mi_scores = {}\n",
    "le_dict = {}\n",
    "for col in cat_cols:\n",
    "    le = LabelEncoder()\n",
    "    vals = X_train[col].astype(str)\n",
    "    le.fit(vals)\n",
    "    le_dict[col] = le\n",
    "    X_train_col_enc = le.transform(vals)\n",
    "    score = mutual_info_classif(X_train_col_enc.reshape(-1,1), y_train, discrete_features=True, random_state=RANDOM_SEED)\n",
    "    mi_scores[col] = float(score[0])\n",
    "\n",
    "mi_scores_rounded = {k: round(v,2) for k,v in mi_scores.items()}\n",
    "print(\"\\nQ3: mutual information scores (train set, rounded 2 decimals):\")\n",
    "for k,v in mi_scores_rounded.items():\n",
    "    print(k, \":\", v)\n",
    "\n",
    "options_q3 = ['industry','location','lead_source','employment_status']\n",
    "present_options = {opt: mi_scores.get(opt, np.nan) for opt in options_q3}\n",
    "print(\"\\nQ3: selected option scores (unrounded):\")\n",
    "for k,v in present_options.items():\n",
    "    print(k, \"->\", v)\n",
    "valid_opts = {k:v for k,v in present_options.items() if not pd.isna(v)}\n",
    "if valid_opts:\n",
    "    best_q3 = max(valid_opts.items(), key=lambda x: x[1])[0]\n",
    "    print(\"Q3: variable with biggest mutual info ->\", best_q3)\n",
    "else:\n",
    "    print(\"Q3: none of the listed categorical columns present in data.\")"
   ]
  },
  {
   "cell_type": "code",
   "execution_count": 20,
   "id": "e1933312-1dda-4248-8a51-02cf3a8f8e64",
   "metadata": {},
   "outputs": [
    {
     "name": "stdout",
     "output_type": "stream",
     "text": [
      "\n",
      "Q4: validation accuracy (rounded 2 decimals) -> 0.73\n",
      "Choose among: 0.64, 0.74, 0.84, 0.94\n"
     ]
    }
   ],
   "source": [
    "try:\n",
    "    ohe = OneHotEncoder(handle_unknown='ignore', sparse_output=False)\n",
    "except TypeError:\n",
    "    ohe = OneHotEncoder(handle_unknown='ignore', sparse=False)\n",
    "\n",
    "ohe.fit(X_train[cat_cols])\n",
    "\n",
    "def prepare_matrix(X_df):\n",
    "    X_num = X_df[num_cols].astype(float).values if num_cols else np.empty((len(X_df),0))\n",
    "    X_cat = ohe.transform(X_df[cat_cols].astype(str)) if cat_cols else np.empty((len(X_df),0))\n",
    "    return np.hstack([X_num, X_cat])\n",
    "\n",
    "X_train_mat = prepare_matrix(X_train)\n",
    "X_val_mat   = prepare_matrix(X_val)\n",
    "X_test_mat  = prepare_matrix(X_test)\n",
    "\n",
    "model = LogisticRegression(solver='liblinear', C=1.0, max_iter=1000, random_state=RANDOM_SEED)\n",
    "model.fit(X_train_mat, y_train)\n",
    "y_val_pred = model.predict(X_val_mat)\n",
    "acc_val = accuracy_score(y_val, y_val_pred)\n",
    "acc_val_rounded = round(acc_val, 2)\n",
    "\n",
    "print(\"\\nQ4: validation accuracy (rounded 2 decimals) ->\", acc_val_rounded)\n",
    "print(\"Choose among: 0.64, 0.74, 0.84, 0.94\")"
   ]
  },
  {
   "cell_type": "code",
   "execution_count": 26,
   "id": "e0737c9d-33f8-4c5c-b624-e8a34b12e936",
   "metadata": {},
   "outputs": [
    {
     "name": "stdout",
     "output_type": "stream",
     "text": [
      "\n",
      "Q5: Feature with the smallest impact (smallest accuracy difference) → employment_status\n"
     ]
    }
   ],
   "source": [
    "baseline_acc = acc_val\n",
    "diffs = {}\n",
    "for feat in num_cols + cat_cols:\n",
    "    num_cols_reduced = [c for c in num_cols if c != feat]\n",
    "    cat_cols_reduced = [c for c in cat_cols if c != feat]\n",
    "    try:\n",
    "        ohe_red = OneHotEncoder(handle_unknown='ignore', sparse_output=False)\n",
    "    except TypeError:\n",
    "        ohe_red = OneHotEncoder(handle_unknown='ignore', sparse=False)\n",
    "    if cat_cols_reduced:\n",
    "        ohe_red.fit(X_train[cat_cols_reduced].astype(str))\n",
    "\n",
    "    def make_mat(Xdf):\n",
    "        Xnum = Xdf[num_cols_reduced].astype(float).values if num_cols_reduced else np.empty((len(Xdf),0))\n",
    "        Xcat = ohe_red.transform(Xdf[cat_cols_reduced].astype(str)) if cat_cols_reduced else np.empty((len(Xdf),0))\n",
    "        return np.hstack([Xnum, Xcat])\n",
    "\n",
    "    Xtr = make_mat(X_train)\n",
    "    Xvl = make_mat(X_val)\n",
    "    mdl = LogisticRegression(solver='liblinear', C=1.0, max_iter=1000, random_state=RANDOM_SEED)\n",
    "    mdl.fit(Xtr, y_train)\n",
    "    preds = mdl.predict(Xvl)\n",
    "    acc = accuracy_score(y_val, preds)\n",
    "    diffs[feat] = baseline_acc - acc\n",
    "\n",
    "choices_q5 = ['industry','employment_status','lead_score']\n",
    "valid_diff = {f:diffs.get(f, np.nan) for f in choices_q5 if f in diffs}\n",
    "\n",
    "if valid_diff:\n",
    "    smallest = min(valid_diff.items(), key=lambda x: x[1])[0]\n",
    "    print(f\"\\nQ5: Feature with the smallest impact (smallest accuracy difference) → {smallest}\")\n",
    "else:\n",
    "    print(\"Q5: Column not found in the dataset.\")"
   ]
  },
  {
   "cell_type": "code",
   "execution_count": 27,
   "id": "c2a2a0b2-bf97-41c9-a105-18796fa8724d",
   "metadata": {},
   "outputs": [
    {
     "name": "stdout",
     "output_type": "stream",
     "text": [
      "\n",
      "Q6: Accuracy for each C value (rounded to 3 decimals):\n",
      "C=0.01: 0.734\n",
      "C=0.1: 0.73\n",
      "C=1: 0.73\n",
      "C=10: 0.73\n",
      "C=100: 0.73\n",
      "Q6: Best C value → 0.01\n",
      "\n",
      "All steps completed successfully.\n"
     ]
    }
   ],
   "source": [
    "Cs = [0.01, 0.1, 1, 10, 100]\n",
    "acc_by_C = {}\n",
    "for c in Cs:\n",
    "    mdl = LogisticRegression(solver='liblinear', C=c, max_iter=1000, random_state=RANDOM_SEED)\n",
    "    mdl.fit(X_train_mat, y_train)\n",
    "    preds = mdl.predict(X_val_mat)\n",
    "    acc_by_C[c] = accuracy_score(y_val, preds)\n",
    "\n",
    "acc_rounded = {c: round(v,3) for c,v in acc_by_C.items()}\n",
    "best_acc = max(acc_by_C.values())\n",
    "best_cs = [c for c,v in acc_by_C.items() if v == best_acc]\n",
    "chosen_c = min(best_cs)\n",
    "\n",
    "print(\"\\nQ6: Accuracy for each C value (rounded to 3 decimals):\")\n",
    "for c, v in acc_rounded.items():\n",
    "    print(f\"C={c}: {v}\")\n",
    "print(f\"Q6: Best C value → {chosen_c}\")\n",
    "\n",
    "print(\"\\nAll steps completed successfully.\")"
   ]
  },
  {
   "cell_type": "code",
   "execution_count": null,
   "id": "1ef2fc03-c4b8-444e-8aea-23bc45d70b53",
   "metadata": {},
   "outputs": [],
   "source": []
  }
 ],
 "metadata": {
  "kernelspec": {
   "display_name": "Python 3 (ipykernel)",
   "language": "python",
   "name": "python3"
  },
  "language_info": {
   "codemirror_mode": {
    "name": "ipython",
    "version": 3
   },
   "file_extension": ".py",
   "mimetype": "text/x-python",
   "name": "python",
   "nbconvert_exporter": "python",
   "pygments_lexer": "ipython3",
   "version": "3.11.7"
  }
 },
 "nbformat": 4,
 "nbformat_minor": 5
}
